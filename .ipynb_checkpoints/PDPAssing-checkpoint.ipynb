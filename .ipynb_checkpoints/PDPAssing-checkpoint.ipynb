{
 "cells": [
  {
   "cell_type": "code",
   "execution_count": null,
   "id": "e1041f01-ba3f-4740-aa5a-2a6525d78ab8",
   "metadata": {},
   "outputs": [],
   "source": [
    "denominations={1:10, 5:0, 10:2, 20:3}\n",
    "def withdraw(withdrawal, denominations):\n",
    "    valid_denom=[1,5,10,20]\n",
    "\n",
    "    if not all(denom in valid_denom for denom in withdrawal.keys()):\n",
    "        raise ValueError(\"Teller only supports this {} denomination\".format(denominations.key()))\n",
    "\n",
    "    for denom, quantity in withdrawal.items():\n",
    "        while quantity>0:\n",
    "            if denom in denominations and denom>0 and quantity>0:\n",
    "                "
   ]
  }
 ],
 "metadata": {
  "kernelspec": {
   "display_name": "Python 3 (ipykernel)",
   "language": "python",
   "name": "python3"
  },
  "language_info": {
   "codemirror_mode": {
    "name": "ipython",
    "version": 3
   },
   "file_extension": ".py",
   "mimetype": "text/x-python",
   "name": "python",
   "nbconvert_exporter": "python",
   "pygments_lexer": "ipython3",
   "version": "3.12.7"
  }
 },
 "nbformat": 4,
 "nbformat_minor": 5
}
