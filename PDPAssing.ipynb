{
 "cells": [
  {
   "cell_type": "code",
   "execution_count": 15,
   "id": "e1041f01-ba3f-4740-aa5a-2a6525d78ab8",
   "metadata": {},
   "outputs": [
    {
     "name": "stdout",
     "output_type": "stream",
     "text": [
      "Withdrawal Result: {1: 5, 5: 0, 10: 1, 20: 0}\n",
      "Updated Denominations: {1: 18, 5: 0, 10: 0, 20: 1}\n"
     ]
    }
   ],
   "source": [
    "denominations={1:10, 5:0, 10:2, 20:3}\n",
    "def withdraw(withdrawal, denominations):\n",
    "    valid_denom=[1,5,10,20]\n",
    "    \n",
    "    #sort the denominations from large to small \n",
    "    denom_sort = sorted(denominations.keys(), reverse=True)  #do this as we are checking from largest if we do not have a denominations less than this current we can take from this large denomination\n",
    "    withdrawn = { denom:0 for denom in denominations}\n",
    "    \n",
    "    # if denominations not in the teller raise valueerror\n",
    "    if not all(denom in valid_denom for denom in withdrawal.keys()):\n",
    "        raise ValueError(\"Teller only supports this {} denomination\".format(denominations.key()))\n",
    "\n",
    "    for denom, quantity in withdrawal.items():\n",
    "        while quantity>0:\n",
    "            '''\n",
    "            if the teller has the quantity add from the minimum of requested and actual quantity in teller of respective denomination to satisfy atleast \n",
    "            a part of the withdrawal quantity.\n",
    "            Subtract the added quantity to the withdrawal from the teller(denominations).\n",
    "            '''\n",
    "            if denom in denominations and denominations[denom]>0:\n",
    "                wd_qty = min(quantity, denominations[denom])\n",
    "                withdrawn[denom] += wd_qty\n",
    "                denominations[denom] -= wd_qty\n",
    "                quantity -= wd_qty\n",
    "            else:\n",
    "                # Break larger denominations if available\n",
    "                for large_denom in denom_sort:\n",
    "                    if large_denom > denom and denominations[large_denom] > 0:\n",
    "                        # Break one large denomination into smaller denominations\n",
    "                        denominations[large_denom] -= 1\n",
    "                        break_down_qty = large_denom // denom\n",
    "                        denominations[denom] += break_down_qty\n",
    "\n",
    "                        # Adjust leftover notes from breakdown\n",
    "                        leftover = large_denom % denom\n",
    "                        if leftover > 0 and leftover in denominations:\n",
    "                            denominations[leftover] += 1\n",
    "                        break\n",
    "                else:\n",
    "                    # Return failure if no larger denominations can satisfy the request\n",
    "                    return False, denominations\n",
    "\n",
    "    for denom, qty in withdrawal.items():\n",
    "        if withdrawn[denom] < qty:\n",
    "            return False, denominations\n",
    "\n",
    "    return withdrawn, denominations\n",
    "\n",
    "\n",
    "denominations = {1: 3, 5: 0, 10: 1, 20: 2}\n",
    "requested = {1: 5, 10: 1}\n",
    "try:\n",
    "    withdrawn, updated_denominations = withdraw(requested, denominations)\n",
    "    print(\"Withdrawal Result:\", withdrawn)\n",
    "    print(\"Updated Denominations:\", updated_denominations)\n",
    "except ValueError as e:\n",
    "    print(\"Error:\", e)\n",
    "                        \n",
    "                "
   ]
  },
  {
   "cell_type": "code",
   "execution_count": null,
   "id": "d0cd5b67-bd66-4086-8308-e53c77a04026",
   "metadata": {},
   "outputs": [],
   "source": []
  }
 ],
 "metadata": {
  "kernelspec": {
   "display_name": "Python 3 (ipykernel)",
   "language": "python",
   "name": "python3"
  },
  "language_info": {
   "codemirror_mode": {
    "name": "ipython",
    "version": 3
   },
   "file_extension": ".py",
   "mimetype": "text/x-python",
   "name": "python",
   "nbconvert_exporter": "python",
   "pygments_lexer": "ipython3",
   "version": "3.12.7"
  }
 },
 "nbformat": 4,
 "nbformat_minor": 5
}
