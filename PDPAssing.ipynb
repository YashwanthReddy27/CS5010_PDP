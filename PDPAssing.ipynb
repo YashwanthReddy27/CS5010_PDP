{
 "cells": [
  {
   "cell_type": "code",
   "execution_count": null,
   "id": "e1041f01-ba3f-4740-aa5a-2a6525d78ab8",
   "metadata": {},
   "outputs": [],
   "source": [
    "denominations={1:10, 5:0, 10:2, 20:3}\n",
    "def withdraw(withdrawal, denominations):\n",
    "    valid_denom=[1,5,10,20]\n",
    "    #sort the denominations from large to small \n",
    "    denom_sort = sorted(denominations.keys(), reverse=True)  #do this as we are checking from largest if we do not have a denominations less than this current we can take from this large denomination\n",
    "    withdrawn = { denom:0 for denom in denominations}\n",
    "    \n",
    "    # if denominations not in the teller raise valueerror\n",
    "    if not all(denom in valid_denom for denom in withdrawal.keys()):\n",
    "        raise ValueError(\"Teller only supports this {} denomination\".format(denominations.key()))\n",
    "\n",
    "    for denom, quantity in withdrawal.items():\n",
    "        while quantity>0:\n",
    "            '''\n",
    "            if the teller has the quantity add from the minimum of requested and actual quantity in teller of respective denomination to satisfy atleast \n",
    "            a part of the withdrawal quantity.\n",
    "            Subtract the added quantity to the withdrawal from the teller(denominations).\n",
    "            '''\n",
    "            if denom in denominations and denominations[denom]>0:\n",
    "                wd_qty = min(quantity, denominations[denom])\n",
    "                withdrawn[denom] += wd_qty\n",
    "                denominations[denom] -= wd_qty\n",
    "                quantity -= wd_qty\n",
    "            else:\n",
    "                "
   ]
  }
 ],
 "metadata": {
  "kernelspec": {
   "display_name": "Python 3 (ipykernel)",
   "language": "python",
   "name": "python3"
  },
  "language_info": {
   "codemirror_mode": {
    "name": "ipython",
    "version": 3
   },
   "file_extension": ".py",
   "mimetype": "text/x-python",
   "name": "python",
   "nbconvert_exporter": "python",
   "pygments_lexer": "ipython3",
   "version": "3.12.7"
  }
 },
 "nbformat": 4,
 "nbformat_minor": 5
}
